{
 "cells": [
  {
   "cell_type": "markdown",
   "metadata": {},
   "source": [
    "### DATA SOURCE\n",
    "    \n",
    "https://www.kaggle.com/rohitrox/healthcare-provider-fraud-detection-analysis?select=Test-1542969243754.csv"
   ]
  },
  {
   "cell_type": "markdown",
   "metadata": {},
   "source": [
    "### Short Introduction \n",
    "\n",
    "Provider Fraud is one of the biggest problems facing Medicare.\n",
    "Providers involved in fraud relied on creative schemes such as forgery, bribes, fake patients, and falsified billings to financially benefit from administrative vulnerabilities in public programs such as Medicare and Medicaid. Healthcare provider fraud is extraordinarily common and can be conducted at a shockingly large scale.  The largest healthcare provider fraud takedown in US history was announced just recently, resulting charges against 400 defendants in 41 federal districts for schemes totaling $1.3 billion, according to HHS and the Office of the Inspector General (OIG).  "
   ]
  },
  {
   "cell_type": "markdown",
   "metadata": {},
   "source": [
    "### Data selection\n",
    "\n",
    "Problem Statement\n",
    "\n",
    "- This project is based on healthcare data where I want to predict the potential fraudulent providers.\n",
    "- Data consists of inpatient claims, Outpatient claims and Beneficiary details of each provider.\n",
    "- I will also look into variables that plays key role in detecting the behaviour of potential fraud providers. \n",
    "- Further, to understand the future behaviour of providers, I will study fraudulent patterns in the provider's claims."
   ]
  },
  {
   "cell_type": "markdown",
   "metadata": {},
   "source": [
    "### Interesting and challenging factor \n",
    "- To detect behaviour of potential fraud providers and to study the pattern in provider's claim for future behaviour."
   ]
  },
  {
   "cell_type": "markdown",
   "metadata": {},
   "source": [
    "### Methodology\n",
    "\n",
    "- I will be using supervised machine learning algorithm to predict the potential fraudulent providers. For now I am thinking of trying linear regression or random forest and see the performance of each algorithms. I am also planning to make use of cross validations and grid search to increase the algorithm performance. Algorithm selection can vary as per performance.\n",
    "- I will also be doing some exploratory analysis of the data to get more insight of the data. \n",
    "- My every ideas are still in planning phase and may vary as I progress."
   ]
  },
  {
   "cell_type": "code",
   "execution_count": null,
   "metadata": {},
   "outputs": [],
   "source": []
  }
 ],
 "metadata": {
  "kernelspec": {
   "display_name": "Python 3",
   "language": "python",
   "name": "python3"
  },
  "language_info": {
   "codemirror_mode": {
    "name": "ipython",
    "version": 3
   },
   "file_extension": ".py",
   "mimetype": "text/x-python",
   "name": "python",
   "nbconvert_exporter": "python",
   "pygments_lexer": "ipython3",
   "version": "3.7.4"
  }
 },
 "nbformat": 4,
 "nbformat_minor": 4
}
