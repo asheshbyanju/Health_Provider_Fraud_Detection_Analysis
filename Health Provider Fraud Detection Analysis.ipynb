{
 "cells": [
  {
   "cell_type": "markdown",
   "metadata": {},
   "source": [
    "### HEALTHCARE PROVIDER FRAUD DETECTION ANALYSIS\n",
    "\n",
    "https://www.kaggle.com/rohitrox/healthcare-provider-fraud-detection-analysis"
   ]
  },
  {
   "cell_type": "code",
   "execution_count": 2,
   "metadata": {},
   "outputs": [],
   "source": [
    "import pandas as pd\n",
    "import numpy as np\n",
    "from matplotlib import pyplot as plt\n",
    "from sklearn import preprocessing\n",
    "from sklearn.model_selection import train_test_split"
   ]
  },
  {
   "cell_type": "code",
   "execution_count": 4,
   "metadata": {},
   "outputs": [
    {
     "data": {
      "text/html": [
       "<div>\n",
       "<style scoped>\n",
       "    .dataframe tbody tr th:only-of-type {\n",
       "        vertical-align: middle;\n",
       "    }\n",
       "\n",
       "    .dataframe tbody tr th {\n",
       "        vertical-align: top;\n",
       "    }\n",
       "\n",
       "    .dataframe thead th {\n",
       "        text-align: right;\n",
       "    }\n",
       "</style>\n",
       "<table border=\"1\" class=\"dataframe\">\n",
       "  <thead>\n",
       "    <tr style=\"text-align: right;\">\n",
       "      <th></th>\n",
       "      <th>Provider</th>\n",
       "    </tr>\n",
       "  </thead>\n",
       "  <tbody>\n",
       "    <tr>\n",
       "      <th>0</th>\n",
       "      <td>PRV51002</td>\n",
       "    </tr>\n",
       "    <tr>\n",
       "      <th>1</th>\n",
       "      <td>PRV51006</td>\n",
       "    </tr>\n",
       "    <tr>\n",
       "      <th>2</th>\n",
       "      <td>PRV51009</td>\n",
       "    </tr>\n",
       "    <tr>\n",
       "      <th>3</th>\n",
       "      <td>PRV51010</td>\n",
       "    </tr>\n",
       "    <tr>\n",
       "      <th>4</th>\n",
       "      <td>PRV51018</td>\n",
       "    </tr>\n",
       "  </tbody>\n",
       "</table>\n",
       "</div>"
      ],
      "text/plain": [
       "   Provider\n",
       "0  PRV51002\n",
       "1  PRV51006\n",
       "2  PRV51009\n",
       "3  PRV51010\n",
       "4  PRV51018"
      ]
     },
     "execution_count": 4,
     "metadata": {},
     "output_type": "execute_result"
    }
   ],
   "source": [
    "# Load Train Dataset\n",
    "\n",
    "y = pd.read_csv(\"./data/Train-1542865627584.csv\")\n",
    "Train_Beneficiarydata = pd.read_csv(\"./data/Train_Beneficiarydata-1542865627584.csv\")\n",
    "Train_Inpatientdata = pd.read_csv(\"./data/Train_Inpatientdata-1542865627584.csv\")\n",
    "Train_Outpatientdata = pd.read_csv(\"./data/Train_Outpatientdata-1542865627584.csv\")\n",
    "\n",
    "# Load Test Dataset\n",
    "\n",
    "y_test = pd.read_csv(\"./data/Test-1542969243754.csv\")\n",
    "Test_Beneficiarydata = pd.read_csv(\"./data/Test_Beneficiarydata-1542969243754.csv\")\n",
    "Test_Inpatientdata = pd.read_csv(\"./data/Test_Inpatientdata-1542969243754.csv\")\n",
    "Test_Outpatientdata = pd.read_csv(\"./data/Test_Outpatientdata-1542969243754.csv\")\n"
   ]
  },
  {
   "cell_type": "code",
   "execution_count": 5,
   "metadata": {},
   "outputs": [
    {
     "name": "stdout",
     "output_type": "stream",
     "text": [
      "Shape of Train data : (5410, 2)\n",
      "Shape of Train_Beneficiarydata data : (138556, 25)\n",
      "Shape of Train_Inpatientdata data : (40474, 30)\n",
      "Shape of Train_Outpatientdata data : (517737, 27)\n",
      "Shape of Test data : (1353, 1)\n",
      "Shape of Test_Beneficiarydata data : (63968, 25)\n",
      "Shape of Test_Inpatientdata data : (9551, 30)\n",
      "Shape of Test_Outpatientdata data : (125841, 27)\n"
     ]
    }
   ],
   "source": [
    "# Check Shape of datasets \n",
    "\n",
    "print('Shape of Train data :',y.shape)\n",
    "print('Shape of Train_Beneficiarydata data :',Train_Beneficiarydata.shape)\n",
    "print('Shape of Train_Inpatientdata data :',Train_Inpatientdata.shape)\n",
    "print('Shape of Train_Outpatientdata data :',Train_Outpatientdata.shape)\n",
    "\n",
    "print('Shape of Test data :',y_test.shape)\n",
    "print('Shape of Test_Beneficiarydata data :',Test_Beneficiarydata.shape)\n",
    "print('Shape of Test_Inpatientdata data :',Test_Inpatientdata.shape)\n",
    "print('Shape of Test_Outpatientdata data :',Test_Outpatientdata.shape)"
   ]
  },
  {
   "cell_type": "code",
   "execution_count": 24,
   "metadata": {},
   "outputs": [
    {
     "data": {
      "text/plain": [
       "BeneID                                 0\n",
       "DOB                                    0\n",
       "DOD                                63394\n",
       "Gender                                 0\n",
       "Race                                   0\n",
       "RenalDiseaseIndicator                  0\n",
       "State                                  0\n",
       "County                                 0\n",
       "NoOfMonths_PartACov                    0\n",
       "NoOfMonths_PartBCov                    0\n",
       "ChronicCond_Alzheimer                  0\n",
       "ChronicCond_Heartfailure               0\n",
       "ChronicCond_KidneyDisease              0\n",
       "ChronicCond_Cancer                     0\n",
       "ChronicCond_ObstrPulmonary             0\n",
       "ChronicCond_Depression                 0\n",
       "ChronicCond_Diabetes                   0\n",
       "ChronicCond_IschemicHeart              0\n",
       "ChronicCond_Osteoporasis               0\n",
       "ChronicCond_rheumatoidarthritis        0\n",
       "ChronicCond_stroke                     0\n",
       "IPAnnualReimbursementAmt               0\n",
       "IPAnnualDeductibleAmt                  0\n",
       "OPAnnualReimbursementAmt               0\n",
       "OPAnnualDeductibleAmt                  0\n",
       "WhetherDead                            0\n",
       "dtype: int64"
      ]
     },
     "execution_count": 24,
     "metadata": {},
     "output_type": "execute_result"
    }
   ],
   "source": [
    "#Check missing values in each column in beneficiary data :\n",
    "\n",
    "Train_Beneficiarydata.isna().sum()\n",
    "\n",
    "Test_Beneficiarydata.isna().sum()"
   ]
  },
  {
   "cell_type": "code",
   "execution_count": 25,
   "metadata": {},
   "outputs": [
    {
     "data": {
      "text/plain": [
       "BeneID                        0\n",
       "ClaimID                       0\n",
       "ClaimStartDt                  0\n",
       "ClaimEndDt                    0\n",
       "Provider                      0\n",
       "InscClaimAmtReimbursed        0\n",
       "AttendingPhysician          112\n",
       "OperatingPhysician        16644\n",
       "OtherPhysician            35784\n",
       "AdmissionDt                   0\n",
       "ClmAdmitDiagnosisCode         0\n",
       "DeductibleAmtPaid           899\n",
       "DischargeDt                   0\n",
       "DiagnosisGroupCode            0\n",
       "ClmDiagnosisCode_1            0\n",
       "ClmDiagnosisCode_2          226\n",
       "ClmDiagnosisCode_3          676\n",
       "ClmDiagnosisCode_4         1534\n",
       "ClmDiagnosisCode_5         2894\n",
       "ClmDiagnosisCode_6         4838\n",
       "ClmDiagnosisCode_7         7258\n",
       "ClmDiagnosisCode_8         9942\n",
       "ClmDiagnosisCode_9        13497\n",
       "ClmDiagnosisCode_10       36547\n",
       "ClmProcedureCode_1        17326\n",
       "ClmProcedureCode_2        35020\n",
       "ClmProcedureCode_3        39509\n",
       "ClmProcedureCode_4        40358\n",
       "ClmProcedureCode_5        40465\n",
       "ClmProcedureCode_6        40474\n",
       "dtype: int64"
      ]
     },
     "execution_count": 25,
     "metadata": {},
     "output_type": "execute_result"
    }
   ],
   "source": [
    "#Check missing values in each column in inpatient data :\n",
    "\n",
    "Train_Inpatientdata.isna().sum()\n",
    "\n",
    "Train_Inpatientdata.isna().sum()"
   ]
  },
  {
   "cell_type": "code",
   "execution_count": 26,
   "metadata": {},
   "outputs": [
    {
     "data": {
      "text/plain": [
       "BeneID                         0\n",
       "ClaimID                        0\n",
       "ClaimStartDt                   0\n",
       "ClaimEndDt                     0\n",
       "Provider                       0\n",
       "InscClaimAmtReimbursed         0\n",
       "AttendingPhysician          1396\n",
       "OperatingPhysician        427120\n",
       "OtherPhysician            322691\n",
       "ClmDiagnosisCode_1         10453\n",
       "ClmDiagnosisCode_2        195380\n",
       "ClmDiagnosisCode_3        314480\n",
       "ClmDiagnosisCode_4        392141\n",
       "ClmDiagnosisCode_5        443393\n",
       "ClmDiagnosisCode_6        468981\n",
       "ClmDiagnosisCode_7        484776\n",
       "ClmDiagnosisCode_8        494825\n",
       "ClmDiagnosisCode_9        502899\n",
       "ClmDiagnosisCode_10       516654\n",
       "ClmProcedureCode_1        517575\n",
       "ClmProcedureCode_2        517701\n",
       "ClmProcedureCode_3        517733\n",
       "ClmProcedureCode_4        517735\n",
       "ClmProcedureCode_5        517737\n",
       "ClmProcedureCode_6        517737\n",
       "DeductibleAmtPaid              0\n",
       "ClmAdmitDiagnosisCode     412312\n",
       "dtype: int64"
      ]
     },
     "execution_count": 26,
     "metadata": {},
     "output_type": "execute_result"
    }
   ],
   "source": [
    "#Check missing values in each column in outpatient data :\n",
    "\n",
    "Train_Outpatientdata.isna().sum()\n",
    "\n",
    "Train_Outpatientdata.isna().sum()"
   ]
  },
  {
   "cell_type": "code",
   "execution_count": 13,
   "metadata": {},
   "outputs": [
    {
     "name": "stdout",
     "output_type": "stream",
     "text": [
      "Unique values in ChronicCond_Alzheimer column:  [1 0]\n"
     ]
    }
   ],
   "source": [
    "# Replacing 2 with 0 for chronic conditions ,that means chroniv condition No is 0 and yes is 1\n",
    "\n",
    "print(\"Unique values in ChronicCond_Alzheimer column: \", format(Train_Beneficiarydata['ChronicCond_Alzheimer'].unique()))\n",
    "\n",
    "Train_Beneficiarydata = Train_Beneficiarydata.replace({'Gender': 2, 'ChronicCond_Depression': 2, 'ChronicCond_Diabetes': 2, 'ChronicCond_IschemicHeart': 2, 'ChronicCond_Osteoporasis': 2,\n",
    "                'ChronicCond_rheumatoidarthritis': 2, 'ChronicCond_stroke': 2, 'ChronicCond_KidneyDisease': 2, 'ChronicCond_Alzheimer': 2,\n",
    "                'ChronicCond_Heartfailure': 2, 'ChronicCond_Cancer': 2, 'ChronicCond_ObstrPulmonary': 2}, 0)\n",
    "\n",
    "\n",
    "Test_Beneficiarydata = Test_Beneficiarydata.replace({'ChronicCond_Alzheimer': 2, 'ChronicCond_Heartfailure': 2, 'ChronicCond_KidneyDisease': 2,\n",
    "                           'ChronicCond_Cancer': 2, 'ChronicCond_ObstrPulmonary': 2, 'ChronicCond_Depression': 2, \n",
    "                           'ChronicCond_Diabetes': 2, 'ChronicCond_IschemicHeart': 2, 'ChronicCond_Osteoporasis': 2, \n",
    "                           'ChronicCond_rheumatoidarthritis': 2, 'ChronicCond_stroke': 2 }, 0)\n",
    "\n"
   ]
  },
  {
   "cell_type": "code",
   "execution_count": 15,
   "metadata": {},
   "outputs": [
    {
     "name": "stdout",
     "output_type": "stream",
     "text": [
      "Unique values in RenalDiseaseIndicator column:  [0 1]\n",
      "Unique values in RenalDiseaseIndicator column:  ['0' 1]\n"
     ]
    }
   ],
   "source": [
    "# data cleaning changing Y values of RenalDiseaseIndicator to 1 to make it uniform\n",
    "\n",
    "print(\"Unique values in RenalDiseaseIndicator column: \", format(Train_Beneficiarydata['RenalDiseaseIndicator'].unique()))\n",
    "\n",
    "print(\"Unique values in RenalDiseaseIndicator column: \", format(Test_Beneficiarydata['RenalDiseaseIndicator'].unique()))\n",
    "\n",
    "Train_Beneficiarydata = Train_Beneficiarydata.replace({'RenalDiseaseIndicator': 'Y'}, 1).astype({'RenalDiseaseIndicator': 'int64'})\n",
    "\n",
    "\n",
    "Test_Beneficiarydata = Test_Beneficiarydata.replace({'RenalDiseaseIndicator': 'Y'}, 1)"
   ]
  },
  {
   "cell_type": "code",
   "execution_count": 8,
   "metadata": {},
   "outputs": [
    {
     "data": {
      "image/png": "[encoded data removed]",
      "text/plain": [
       "<Figure size 720x432 with 1 Axes>"
      ]
     },
     "metadata": {
      "needs_background": "light"
     },
     "output_type": "display_data"
    }
   ],
   "source": [
    "# Potential fraud test distrubution\n",
    "\n",
    "plt.title(\"Potential Fraud Test distribution\")\n",
    "y.groupby( [\"PotentialFraud\"] ).Provider.count().plot(kind = \"bar\", figsize = (10,6))\n",
    "plt.xlabel('Status')\n",
    "plt.ylabel('Count')\n",
    "plt.show()"
   ]
  },
  {
   "cell_type": "markdown",
   "metadata": {},
   "source": [
    "### Adding features and combine datasets"
   ]
  },
  {
   "cell_type": "code",
   "execution_count": 17,
   "metadata": {},
   "outputs": [
    {
     "data": {
      "text/plain": [
       "0    0\n",
       "1    1\n",
       "2    0\n",
       "Name: WhetherDead, dtype: int64"
      ]
     },
     "execution_count": 17,
     "metadata": {},
     "output_type": "execute_result"
    }
   ],
   "source": [
    "Train_Beneficiarydata['DOD'].unique()\n",
    "\n",
    "# Add Flag column 'WhetherDead' using DOD values to know whether beneficiary is dead on not\n",
    "\n",
    "Train_Beneficiarydata['WhetherDead'] = 0\n",
    "Train_Beneficiarydata.loc[Train_Beneficiarydata.DOD.notna(), 'WhetherDead'] = 1\n",
    "\n",
    "Train_Beneficiarydata['WhetherDead'].head(3)\n",
    "\n",
    "Test_Beneficiarydata['WhetherDead'] = 0\n",
    "Test_Beneficiarydata.loc[Test_Beneficiarydata.DOD.notna(), 'WhetherDead'] = 1\n",
    "\n",
    "Test_Beneficiarydata['WhetherDead'].head(3)"
   ]
  },
  {
   "cell_type": "code",
   "execution_count": 10,
   "metadata": {},
   "outputs": [
    {
     "data": {
      "text/html": [
       "<div>\n",
       "<style scoped>\n",
       "    .dataframe tbody tr th:only-of-type {\n",
       "        vertical-align: middle;\n",
       "    }\n",
       "\n",
       "    .dataframe tbody tr th {\n",
       "        vertical-align: top;\n",
       "    }\n",
       "\n",
       "    .dataframe thead th {\n",
       "        text-align: right;\n",
       "    }\n",
       "</style>\n",
       "<table border=\"1\" class=\"dataframe\">\n",
       "  <thead>\n",
       "    <tr style=\"text-align: right;\">\n",
       "      <th></th>\n",
       "      <th>Provider</th>\n",
       "      <th>PotentialFraud</th>\n",
       "      <th>target</th>\n",
       "    </tr>\n",
       "  </thead>\n",
       "  <tbody>\n",
       "    <tr>\n",
       "      <th>0</th>\n",
       "      <td>PRV51001</td>\n",
       "      <td>No</td>\n",
       "      <td>0</td>\n",
       "    </tr>\n",
       "    <tr>\n",
       "      <th>1</th>\n",
       "      <td>PRV51003</td>\n",
       "      <td>Yes</td>\n",
       "      <td>1</td>\n",
       "    </tr>\n",
       "    <tr>\n",
       "      <th>2</th>\n",
       "      <td>PRV51004</td>\n",
       "      <td>No</td>\n",
       "      <td>0</td>\n",
       "    </tr>\n",
       "    <tr>\n",
       "      <th>3</th>\n",
       "      <td>PRV51005</td>\n",
       "      <td>Yes</td>\n",
       "      <td>1</td>\n",
       "    </tr>\n",
       "    <tr>\n",
       "      <th>4</th>\n",
       "      <td>PRV51007</td>\n",
       "      <td>No</td>\n",
       "      <td>0</td>\n",
       "    </tr>\n",
       "    <tr>\n",
       "      <th>...</th>\n",
       "      <td>...</td>\n",
       "      <td>...</td>\n",
       "      <td>...</td>\n",
       "    </tr>\n",
       "    <tr>\n",
       "      <th>5405</th>\n",
       "      <td>PRV57759</td>\n",
       "      <td>No</td>\n",
       "      <td>0</td>\n",
       "    </tr>\n",
       "    <tr>\n",
       "      <th>5406</th>\n",
       "      <td>PRV57760</td>\n",
       "      <td>No</td>\n",
       "      <td>0</td>\n",
       "    </tr>\n",
       "    <tr>\n",
       "      <th>5407</th>\n",
       "      <td>PRV57761</td>\n",
       "      <td>No</td>\n",
       "      <td>0</td>\n",
       "    </tr>\n",
       "    <tr>\n",
       "      <th>5408</th>\n",
       "      <td>PRV57762</td>\n",
       "      <td>No</td>\n",
       "      <td>0</td>\n",
       "    </tr>\n",
       "    <tr>\n",
       "      <th>5409</th>\n",
       "      <td>PRV57763</td>\n",
       "      <td>No</td>\n",
       "      <td>0</td>\n",
       "    </tr>\n",
       "  </tbody>\n",
       "</table>\n",
       "<p>5410 rows × 3 columns</p>\n",
       "</div>"
      ],
      "text/plain": [
       "      Provider PotentialFraud  target\n",
       "0     PRV51001             No       0\n",
       "1     PRV51003            Yes       1\n",
       "2     PRV51004             No       0\n",
       "3     PRV51005            Yes       1\n",
       "4     PRV51007             No       0\n",
       "...        ...            ...     ...\n",
       "5405  PRV57759             No       0\n",
       "5406  PRV57760             No       0\n",
       "5407  PRV57761             No       0\n",
       "5408  PRV57762             No       0\n",
       "5409  PRV57763             No       0\n",
       "\n",
       "[5410 rows x 3 columns]"
      ]
     },
     "execution_count": 10,
     "metadata": {},
     "output_type": "execute_result"
    }
   ],
   "source": [
    "# Adding Target numeric variable.\n",
    "\n",
    "y[\"target\"] = np.where(y.PotentialFraud == \"Yes\", 1, 0) \n",
    "\n",
    "y"
   ]
  },
  {
   "cell_type": "code",
   "execution_count": 18,
   "metadata": {},
   "outputs": [],
   "source": [
    "# Combine Inpatient and Outpatient datasets for both train and test\n",
    "\n",
    "train_medicare = pd.merge(Train_Inpatientdata, Train_Outpatientdata, left_on= [ x for x in Train_Outpatientdata.columns if x in Train_Inpatientdata.columns], right_on = [ x for x in Train_Outpatientdata.columns if x in Train_Inpatientdata.columns], how = 'outer')\n",
    "\n",
    "test_medicare = pd.merge(Test_Inpatientdata, Test_Outpatientdata, left_on= [ x for x in Test_Outpatientdata.columns if x in Test_Inpatientdata.columns], right_on = [ x for x in Test_Outpatientdata.columns if x in Test_Inpatientdata.columns], how = 'outer')\n"
   ]
  },
  {
   "cell_type": "code",
   "execution_count": 20,
   "metadata": {},
   "outputs": [
    {
     "name": "stdout",
     "output_type": "stream",
     "text": [
      "All Patient Data Train :  (558211, 30)\n",
      "All Patient Data Test :  (135392, 30)\n"
     ]
    },
    {
     "data": {
      "text/html": [
       "<div>\n",
       "<style scoped>\n",
       "    .dataframe tbody tr th:only-of-type {\n",
       "        vertical-align: middle;\n",
       "    }\n",
       "\n",
       "    .dataframe tbody tr th {\n",
       "        vertical-align: top;\n",
       "    }\n",
       "\n",
       "    .dataframe thead th {\n",
       "        text-align: right;\n",
       "    }\n",
       "</style>\n",
       "<table border=\"1\" class=\"dataframe\">\n",
       "  <thead>\n",
       "    <tr style=\"text-align: right;\">\n",
       "      <th></th>\n",
       "      <th>BeneID</th>\n",
       "      <th>ClaimID</th>\n",
       "      <th>ClaimStartDt</th>\n",
       "      <th>ClaimEndDt</th>\n",
       "      <th>Provider</th>\n",
       "      <th>InscClaimAmtReimbursed</th>\n",
       "      <th>AttendingPhysician</th>\n",
       "      <th>OperatingPhysician</th>\n",
       "      <th>OtherPhysician</th>\n",
       "      <th>AdmissionDt</th>\n",
       "      <th>...</th>\n",
       "      <th>ClmDiagnosisCode_7</th>\n",
       "      <th>ClmDiagnosisCode_8</th>\n",
       "      <th>ClmDiagnosisCode_9</th>\n",
       "      <th>ClmDiagnosisCode_10</th>\n",
       "      <th>ClmProcedureCode_1</th>\n",
       "      <th>ClmProcedureCode_2</th>\n",
       "      <th>ClmProcedureCode_3</th>\n",
       "      <th>ClmProcedureCode_4</th>\n",
       "      <th>ClmProcedureCode_5</th>\n",
       "      <th>ClmProcedureCode_6</th>\n",
       "    </tr>\n",
       "  </thead>\n",
       "  <tbody>\n",
       "    <tr>\n",
       "      <th>0</th>\n",
       "      <td>BENE11014</td>\n",
       "      <td>CLM67387</td>\n",
       "      <td>2009-09-09</td>\n",
       "      <td>2009-09-16</td>\n",
       "      <td>PRV57070</td>\n",
       "      <td>9000</td>\n",
       "      <td>PHY317786</td>\n",
       "      <td>PHY427017</td>\n",
       "      <td>NaN</td>\n",
       "      <td>2009-09-09</td>\n",
       "      <td>...</td>\n",
       "      <td>5990</td>\n",
       "      <td>570</td>\n",
       "      <td>41071</td>\n",
       "      <td>4280</td>\n",
       "      <td>4443.0</td>\n",
       "      <td>5849.0</td>\n",
       "      <td>NaN</td>\n",
       "      <td>NaN</td>\n",
       "      <td>NaN</td>\n",
       "      <td>NaN</td>\n",
       "    </tr>\n",
       "    <tr>\n",
       "      <th>1</th>\n",
       "      <td>BENE11017</td>\n",
       "      <td>CLM31237</td>\n",
       "      <td>2008-12-25</td>\n",
       "      <td>2009-01-08</td>\n",
       "      <td>PRV54750</td>\n",
       "      <td>14000</td>\n",
       "      <td>PHY314656</td>\n",
       "      <td>PHY426644</td>\n",
       "      <td>NaN</td>\n",
       "      <td>2008-12-25</td>\n",
       "      <td>...</td>\n",
       "      <td>4549</td>\n",
       "      <td>29570</td>\n",
       "      <td>34831</td>\n",
       "      <td>NaN</td>\n",
       "      <td>5551.0</td>\n",
       "      <td>NaN</td>\n",
       "      <td>NaN</td>\n",
       "      <td>NaN</td>\n",
       "      <td>NaN</td>\n",
       "      <td>NaN</td>\n",
       "    </tr>\n",
       "  </tbody>\n",
       "</table>\n",
       "<p>2 rows × 30 columns</p>\n",
       "</div>"
      ],
      "text/plain": [
       "      BeneID   ClaimID ClaimStartDt  ClaimEndDt  Provider  \\\n",
       "0  BENE11014  CLM67387   2009-09-09  2009-09-16  PRV57070   \n",
       "1  BENE11017  CLM31237   2008-12-25  2009-01-08  PRV54750   \n",
       "\n",
       "   InscClaimAmtReimbursed AttendingPhysician OperatingPhysician  \\\n",
       "0                    9000          PHY317786          PHY427017   \n",
       "1                   14000          PHY314656          PHY426644   \n",
       "\n",
       "  OtherPhysician AdmissionDt  ... ClmDiagnosisCode_7  ClmDiagnosisCode_8  \\\n",
       "0            NaN  2009-09-09  ...               5990                 570   \n",
       "1            NaN  2008-12-25  ...               4549               29570   \n",
       "\n",
       "  ClmDiagnosisCode_9 ClmDiagnosisCode_10 ClmProcedureCode_1  \\\n",
       "0              41071                4280             4443.0   \n",
       "1              34831                 NaN             5551.0   \n",
       "\n",
       "  ClmProcedureCode_2 ClmProcedureCode_3 ClmProcedureCode_4 ClmProcedureCode_5  \\\n",
       "0             5849.0                NaN                NaN                NaN   \n",
       "1                NaN                NaN                NaN                NaN   \n",
       "\n",
       "  ClmProcedureCode_6  \n",
       "0                NaN  \n",
       "1                NaN  \n",
       "\n",
       "[2 rows x 30 columns]"
      ]
     },
     "execution_count": 20,
     "metadata": {},
     "output_type": "execute_result"
    }
   ],
   "source": [
    "# Print shape of data \n",
    "\n",
    "print('All Patient Data Train : ',train_medicare.shape)\n",
    "train_medicare.head()\n",
    "\n",
    "print('All Patient Data Test : ',test_medicare.shape)\n",
    "test_medicare.head(2)"
   ]
  },
  {
   "cell_type": "code",
   "execution_count": 22,
   "metadata": {},
   "outputs": [],
   "source": [
    "# combine benefeciary data with medicare data for patient information\n",
    "\n",
    "train_data = pd.merge(train_medicare, Train_Beneficiarydata, left_on='BeneID', right_on='BeneID', how= 'inner')\n",
    "\n",
    "test_data = pd.merge(test_medicare, Test_Beneficiarydata, left_on='BeneID', right_on='BeneID', how= 'inner')\n"
   ]
  },
  {
   "cell_type": "code",
   "execution_count": 23,
   "metadata": {},
   "outputs": [
    {
     "name": "stdout",
     "output_type": "stream",
     "text": [
      "Shape of All Patient Details Train :  (558211, 55)\n",
      "Shape of All Patient Details Test :  (135392, 55)\n"
     ]
    },
    {
     "data": {
      "text/html": [
       "<div>\n",
       "<style scoped>\n",
       "    .dataframe tbody tr th:only-of-type {\n",
       "        vertical-align: middle;\n",
       "    }\n",
       "\n",
       "    .dataframe tbody tr th {\n",
       "        vertical-align: top;\n",
       "    }\n",
       "\n",
       "    .dataframe thead th {\n",
       "        text-align: right;\n",
       "    }\n",
       "</style>\n",
       "<table border=\"1\" class=\"dataframe\">\n",
       "  <thead>\n",
       "    <tr style=\"text-align: right;\">\n",
       "      <th></th>\n",
       "      <th>BeneID</th>\n",
       "      <th>ClaimID</th>\n",
       "      <th>ClaimStartDt</th>\n",
       "      <th>ClaimEndDt</th>\n",
       "      <th>Provider</th>\n",
       "      <th>InscClaimAmtReimbursed</th>\n",
       "      <th>AttendingPhysician</th>\n",
       "      <th>OperatingPhysician</th>\n",
       "      <th>OtherPhysician</th>\n",
       "      <th>AdmissionDt</th>\n",
       "      <th>...</th>\n",
       "      <th>ChronicCond_Diabetes</th>\n",
       "      <th>ChronicCond_IschemicHeart</th>\n",
       "      <th>ChronicCond_Osteoporasis</th>\n",
       "      <th>ChronicCond_rheumatoidarthritis</th>\n",
       "      <th>ChronicCond_stroke</th>\n",
       "      <th>IPAnnualReimbursementAmt</th>\n",
       "      <th>IPAnnualDeductibleAmt</th>\n",
       "      <th>OPAnnualReimbursementAmt</th>\n",
       "      <th>OPAnnualDeductibleAmt</th>\n",
       "      <th>WhetherDead</th>\n",
       "    </tr>\n",
       "  </thead>\n",
       "  <tbody>\n",
       "    <tr>\n",
       "      <th>0</th>\n",
       "      <td>BENE11014</td>\n",
       "      <td>CLM67387</td>\n",
       "      <td>2009-09-09</td>\n",
       "      <td>2009-09-16</td>\n",
       "      <td>PRV57070</td>\n",
       "      <td>9000</td>\n",
       "      <td>PHY317786</td>\n",
       "      <td>PHY427017</td>\n",
       "      <td>NaN</td>\n",
       "      <td>2009-09-09</td>\n",
       "      <td>...</td>\n",
       "      <td>0</td>\n",
       "      <td>1</td>\n",
       "      <td>0</td>\n",
       "      <td>0</td>\n",
       "      <td>0</td>\n",
       "      <td>21260</td>\n",
       "      <td>2136</td>\n",
       "      <td>120</td>\n",
       "      <td>100</td>\n",
       "      <td>0</td>\n",
       "    </tr>\n",
       "    <tr>\n",
       "      <th>1</th>\n",
       "      <td>BENE11014</td>\n",
       "      <td>CLM731858</td>\n",
       "      <td>2009-12-16</td>\n",
       "      <td>2009-12-16</td>\n",
       "      <td>PRV56558</td>\n",
       "      <td>60</td>\n",
       "      <td>PHY331420</td>\n",
       "      <td>PHY331420</td>\n",
       "      <td>PHY428520</td>\n",
       "      <td>NaN</td>\n",
       "      <td>...</td>\n",
       "      <td>0</td>\n",
       "      <td>1</td>\n",
       "      <td>0</td>\n",
       "      <td>0</td>\n",
       "      <td>0</td>\n",
       "      <td>21260</td>\n",
       "      <td>2136</td>\n",
       "      <td>120</td>\n",
       "      <td>100</td>\n",
       "      <td>0</td>\n",
       "    </tr>\n",
       "  </tbody>\n",
       "</table>\n",
       "<p>2 rows × 55 columns</p>\n",
       "</div>"
      ],
      "text/plain": [
       "      BeneID    ClaimID ClaimStartDt  ClaimEndDt  Provider  \\\n",
       "0  BENE11014   CLM67387   2009-09-09  2009-09-16  PRV57070   \n",
       "1  BENE11014  CLM731858   2009-12-16  2009-12-16  PRV56558   \n",
       "\n",
       "   InscClaimAmtReimbursed AttendingPhysician OperatingPhysician  \\\n",
       "0                    9000          PHY317786          PHY427017   \n",
       "1                      60          PHY331420          PHY331420   \n",
       "\n",
       "  OtherPhysician AdmissionDt  ... ChronicCond_Diabetes  \\\n",
       "0            NaN  2009-09-09  ...                    0   \n",
       "1      PHY428520         NaN  ...                    0   \n",
       "\n",
       "   ChronicCond_IschemicHeart ChronicCond_Osteoporasis  \\\n",
       "0                          1                        0   \n",
       "1                          1                        0   \n",
       "\n",
       "  ChronicCond_rheumatoidarthritis ChronicCond_stroke IPAnnualReimbursementAmt  \\\n",
       "0                               0                  0                    21260   \n",
       "1                               0                  0                    21260   \n",
       "\n",
       "  IPAnnualDeductibleAmt OPAnnualReimbursementAmt OPAnnualDeductibleAmt  \\\n",
       "0                  2136                      120                   100   \n",
       "1                  2136                      120                   100   \n",
       "\n",
       "  WhetherDead  \n",
       "0           0  \n",
       "1           0  \n",
       "\n",
       "[2 rows x 55 columns]"
      ]
     },
     "execution_count": 23,
     "metadata": {},
     "output_type": "execute_result"
    }
   ],
   "source": [
    "# Print shape of data \n",
    "print('Shape of All Patient Details Train : ',train_data.shape)\n",
    "train_data.head()\n",
    "\n",
    "print('Shape of All Patient Details Test : ',test_data.shape)\n",
    "test_data.head(2)"
   ]
  },
  {
   "cell_type": "code",
   "execution_count": 29,
   "metadata": {},
   "outputs": [
    {
     "name": "stdout",
     "output_type": "stream",
     "text": [
      "Percent missing values in Train Provider with patient details data :\n",
      "\n",
      "BeneID                               0.000000\n",
      "ClaimID                              0.000000\n",
      "ClaimStartDt                         0.000000\n",
      "ClaimEndDt                           0.000000\n",
      "Provider                             0.000000\n",
      "InscClaimAmtReimbursed               0.000000\n",
      "AttendingPhysician                   0.270149\n",
      "OperatingPhysician                  79.497538\n",
      "OtherPhysician                      64.218548\n",
      "AdmissionDt                         92.749337\n",
      "ClmAdmitDiagnosisCode               73.863109\n",
      "DeductibleAmtPaid                    0.161050\n",
      "DischargeDt                         92.749337\n",
      "DiagnosisGroupCode                  92.749337\n",
      "ClmDiagnosisCode_1                   1.872589\n",
      "ClmDiagnosisCode_2                  35.041588\n",
      "ClmDiagnosisCode_3                  56.458221\n",
      "ClmDiagnosisCode_4                  70.524407\n",
      "ClmDiagnosisCode_5                  79.949517\n",
      "ClmDiagnosisCode_6                  84.881702\n",
      "ClmDiagnosisCode_7                  88.144805\n",
      "ClmDiagnosisCode_8                  90.425843\n",
      "ClmDiagnosisCode_9                  92.509105\n",
      "ClmDiagnosisCode_10                 99.102490\n",
      "ClmProcedureCode_1                  95.824160\n",
      "ClmProcedureCode_2                  99.016501\n",
      "ClmProcedureCode_3                  99.826410\n",
      "ClmProcedureCode_4                  99.978861\n",
      "ClmProcedureCode_5                  99.998388\n",
      "ClmProcedureCode_6                 100.000000\n",
      "DOB                                  0.000000\n",
      "DOD                                 99.259957\n",
      "Gender                               0.000000\n",
      "Race                                 0.000000\n",
      "RenalDiseaseIndicator                0.000000\n",
      "State                                0.000000\n",
      "County                               0.000000\n",
      "NoOfMonths_PartACov                  0.000000\n",
      "NoOfMonths_PartBCov                  0.000000\n",
      "ChronicCond_Alzheimer                0.000000\n",
      "ChronicCond_Heartfailure             0.000000\n",
      "ChronicCond_KidneyDisease            0.000000\n",
      "ChronicCond_Cancer                   0.000000\n",
      "ChronicCond_ObstrPulmonary           0.000000\n",
      "ChronicCond_Depression               0.000000\n",
      "ChronicCond_Diabetes                 0.000000\n",
      "ChronicCond_IschemicHeart            0.000000\n",
      "ChronicCond_Osteoporasis             0.000000\n",
      "ChronicCond_rheumatoidarthritis      0.000000\n",
      "ChronicCond_stroke                   0.000000\n",
      "IPAnnualReimbursementAmt             0.000000\n",
      "IPAnnualDeductibleAmt                0.000000\n",
      "OPAnnualReimbursementAmt             0.000000\n",
      "OPAnnualDeductibleAmt                0.000000\n",
      "WhetherDead                          0.000000\n",
      "dtype: float64\n"
     ]
    }
   ],
   "source": [
    "# check missing value percentage in full datasets\n",
    "\n",
    "print('Percent missing values in Train Provider with patient details data :\\n')\n",
    "print(train_data.isnull().sum()*100/len(train_data))\n"
   ]
  },
  {
   "cell_type": "code",
   "execution_count": 30,
   "metadata": {},
   "outputs": [
    {
     "name": "stdout",
     "output_type": "stream",
     "text": [
      "Percent missing values in Test Provider with patient details data :\n",
      "\n"
     ]
    },
    {
     "data": {
      "text/plain": [
       "BeneID                               0.000000\n",
       "ClaimID                              0.000000\n",
       "ClaimStartDt                         0.000000\n",
       "ClaimEndDt                           0.000000\n",
       "Provider                             0.000000\n",
       "InscClaimAmtReimbursed               0.000000\n",
       "AttendingPhysician                   0.256293\n",
       "OperatingPhysician                  79.915357\n",
       "OtherPhysician                      64.080596\n",
       "AdmissionDt                         92.945669\n",
       "ClmAdmitDiagnosisCode               73.886197\n",
       "DeductibleAmtPaid                    0.144765\n",
       "DischargeDt                         92.945669\n",
       "DiagnosisGroupCode                  92.945669\n",
       "ClmDiagnosisCode_1                   1.904101\n",
       "ClmDiagnosisCode_2                  35.293814\n",
       "ClmDiagnosisCode_3                  56.682817\n",
       "ClmDiagnosisCode_4                  70.739039\n",
       "ClmDiagnosisCode_5                  80.207102\n",
       "ClmDiagnosisCode_6                  85.109903\n",
       "ClmDiagnosisCode_7                  88.341261\n",
       "ClmDiagnosisCode_8                  90.603581\n",
       "ClmDiagnosisCode_9                  92.705625\n",
       "ClmDiagnosisCode_10                 99.150615\n",
       "ClmProcedureCode_1                  95.962095\n",
       "ClmProcedureCode_2                  99.067153\n",
       "ClmProcedureCode_3                  99.833816\n",
       "ClmProcedureCode_4                  99.978581\n",
       "ClmProcedureCode_5                  99.998523\n",
       "ClmProcedureCode_6                 100.000000\n",
       "DOB                                  0.000000\n",
       "DOD                                 99.231860\n",
       "Gender                               0.000000\n",
       "Race                                 0.000000\n",
       "RenalDiseaseIndicator                0.000000\n",
       "State                                0.000000\n",
       "County                               0.000000\n",
       "NoOfMonths_PartACov                  0.000000\n",
       "NoOfMonths_PartBCov                  0.000000\n",
       "ChronicCond_Alzheimer                0.000000\n",
       "ChronicCond_Heartfailure             0.000000\n",
       "ChronicCond_KidneyDisease            0.000000\n",
       "ChronicCond_Cancer                   0.000000\n",
       "ChronicCond_ObstrPulmonary           0.000000\n",
       "ChronicCond_Depression               0.000000\n",
       "ChronicCond_Diabetes                 0.000000\n",
       "ChronicCond_IschemicHeart            0.000000\n",
       "ChronicCond_Osteoporasis             0.000000\n",
       "ChronicCond_rheumatoidarthritis      0.000000\n",
       "ChronicCond_stroke                   0.000000\n",
       "IPAnnualReimbursementAmt             0.000000\n",
       "IPAnnualDeductibleAmt                0.000000\n",
       "OPAnnualReimbursementAmt             0.000000\n",
       "OPAnnualDeductibleAmt                0.000000\n",
       "WhetherDead                          0.000000\n",
       "dtype: float64"
      ]
     },
     "execution_count": 30,
     "metadata": {},
     "output_type": "execute_result"
    }
   ],
   "source": [
    "print('Percent missing values in Test Provider with patient details data :\\n')\n",
    "test_data.isnull().sum()*100/len(test_data)"
   ]
  },
  {
   "cell_type": "code",
   "execution_count": null,
   "metadata": {},
   "outputs": [],
   "source": []
  }
 ],
 "metadata": {
  "kernelspec": {
   "display_name": "Python 3",
   "language": "python",
   "name": "python3"
  },
  "language_info": {
   "codemirror_mode": {
    "name": "ipython",
    "version": 3
   },
   "file_extension": ".py",
   "mimetype": "text/x-python",
   "name": "python",
   "nbconvert_exporter": "python",
   "pygments_lexer": "ipython3",
   "version": "3.7.4"
  }
 },
 "nbformat": 4,
 "nbformat_minor": 4
}
